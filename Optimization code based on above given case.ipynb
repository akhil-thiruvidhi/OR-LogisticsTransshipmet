{
 "cells": [
  {
   "cell_type": "code",
   "execution_count": 1,
   "id": "7b3ca792",
   "metadata": {},
   "outputs": [],
   "source": [
    
    "#Akhil Thiruvidhi\n"
    
   ]
  },
  {
   "cell_type": "code",
   "execution_count": 1,
   "id": "a701426f",
   "metadata": {},
   "outputs": [],
   "source": [
    "#Nomenclature for Locations\n",
    "Supply_Hubs = [1,2,3,4]\n",
    "Trans_Hubs = [5,6,7]\n",
    "Demand_Centers = [8,9,10,11,12,13,14]"
   ]
  },
  {
   "cell_type": "code",
   "execution_count": 7,
   "id": "afb16b80",
   "metadata": {},
   "outputs": [],
   "source": [
    "#Supply & Demand\n",
    "Supply = {1: 1050,          #South America\n",
    "          2: 30,            #Southeast Asia\n",
    "          3: 1000000,       #Europe\n",
    "          4: 100}            #Ontario\n",
    "          \n",
    "        \n",
    "Demand = {8: 381,           #Toronto\n",
    "          9: 191,           #Vancouver\n",
    "          10: 171,          #Calgary\n",
    "          11: 64,           #Winnipeg      \n",
    "          12: 127,          #Ottawa\n",
    "          13: 184,          #Montreal\n",
    "          14: 64            #Halifax\n",
    "         }\n",
    "          \n",
    "          \n",
    "          \n",
    "Transp1 = {1: {5: 14, 6: 9,    7: 20},\n",
    "          2: {5: 35, 6: 20,   7: 35},\n",
    "          3: {5: 30, 6: 15,   7: 35},\n",
    "          4: {5: 0,  6: 10000,7: 15}\n",
    "          }\n",
    "\n",
    "          \n",
    "Transp2 = {5: {8:0,  9:15, 10:14, 11:13, 12:3.5, 13:3.5, 14:4 },\n",
    "           6: {8:5,  9:10, 10:10, 11:10, 12:7.5, 13:7.5, 14:10 },\n",
    "           7: {8:14, 9:0,  10:7,  11:8,  12:14,  13:14,  14:22 },\n",
    "    \n",
    "}"
   ]
  },
  {
   "cell_type": "code",
   "execution_count": 8,
   "id": "bf91a40a",
   "metadata": {},
   "outputs": [],
   "source": [
    "import pulp as p\n",
    "Lp_prob = p.LpProblem('Bloomex_Problem',p.LpMinimize)"
   ]
  },
  {
   "cell_type": "code",
   "execution_count": 24,
   "id": "602a6efc",
   "metadata": {},
   "outputs": [],
   "source": [
    "#Nomenclature for Locations\n",
    "Supply_Hubs = [1,2,3,4]\n",
    "Trans_Hubs = [5,6,7]\n",
    "Demand_Centers = [8,9,10,11,12,13,14]\n",
    "#Decision Variables\n",
    "Transh_vars = p.LpVariable.dicts(\"Transshipment\",[(i,j) for i in Supply_Hubs for j in Trans_Hubs], 0)\n",
    "Demand_vars = p.LpVariable.dicts(\"DemandCenters\",[(j,k) for j in Trans_Hubs for k in Demand_Centers], 0)"
   ]
  },
  {
   "cell_type": "code",
   "execution_count": 27,
   "id": "bf5e1d52",
   "metadata": {},
   "outputs": [],
   "source": [
    "#Objective Function\n",
    "Lp_prob += p.lpSum(Transp1[i][j]*Transh_vars[(i,j)] for i in Supply_Hubs for j in Trans_Hubs) + p.lpSum(Transp2[j][k]*Demand_vars[(j,k)] for j in Trans_Hubs for k in Demand_Centers)"
   ]
  },
  {
   "cell_type": "code",
   "execution_count": 33,
   "id": "db68b780",
   "metadata": {},
   "outputs": [],
   "source": [
    "#Constraints\n",
    "for k in Demand_Centers:\n",
    "    Lp_prob += p.lpSum(Demand_vars[(j,k)] for j in Trans_Hubs) == Demand[k]\n",
    "for j in Trans_Hubs:\n",
    "    Lp_prob += p.lpSum(Transh_vars[(i,j)] for i in Supply_Hubs) == p.lpSum(Demand_vars[(j,k)] for k in Demand_Centers)\n",
    "for i in Supply_Hubs:\n",
    "    Lp_prob += p.lpSum(Transh_vars[(i,j)] for j in Trans_Hubs) <= Supply[i]"
   ]
  },
  {
   "cell_type": "code",
   "execution_count": 34,
   "id": "71ac52b1",
   "metadata": {},
   "outputs": [
    {
     "name": "stdout",
     "output_type": "stream",
     "text": [
      "Bloomex_Problem:\n",
      "MINIMIZE\n",
      "14*DemandCenters_(5,_10) + 13*DemandCenters_(5,_11) + 3.5*DemandCenters_(5,_12) + 3.5*DemandCenters_(5,_13) + 4*DemandCenters_(5,_14) + 15*DemandCenters_(5,_9) + 10*DemandCenters_(6,_10) + 10*DemandCenters_(6,_11) + 7.5*DemandCenters_(6,_12) + 7.5*DemandCenters_(6,_13) + 10*DemandCenters_(6,_14) + 5*DemandCenters_(6,_8) + 10*DemandCenters_(6,_9) + 7*DemandCenters_(7,_10) + 8*DemandCenters_(7,_11) + 14*DemandCenters_(7,_12) + 14*DemandCenters_(7,_13) + 22*DemandCenters_(7,_14) + 14*DemandCenters_(7,_8) + 14*Transshipment_(1,_5) + 9*Transshipment_(1,_6) + 20*Transshipment_(1,_7) + 35*Transshipment_(2,_5) + 20*Transshipment_(2,_6) + 35*Transshipment_(2,_7) + 30*Transshipment_(3,_5) + 15*Transshipment_(3,_6) + 35*Transshipment_(3,_7) + 10000*Transshipment_(4,_6) + 15*Transshipment_(4,_7) + 0.0\n",
      "SUBJECT TO\n",
      "_C1: DemandCenters_(5,_8) + DemandCenters_(6,_8) + DemandCenters_(7,_8) = 381\n",
      "\n",
      "_C2: DemandCenters_(5,_9) + DemandCenters_(6,_9) + DemandCenters_(7,_9) = 191\n",
      "\n",
      "_C3: DemandCenters_(5,_10) + DemandCenters_(6,_10) + DemandCenters_(7,_10)\n",
      " = 171\n",
      "\n",
      "_C4: DemandCenters_(5,_11) + DemandCenters_(6,_11) + DemandCenters_(7,_11)\n",
      " = 64\n",
      "\n",
      "_C5: DemandCenters_(5,_12) + DemandCenters_(6,_12) + DemandCenters_(7,_12)\n",
      " = 127\n",
      "\n",
      "_C6: DemandCenters_(5,_13) + DemandCenters_(6,_13) + DemandCenters_(7,_13)\n",
      " = 184\n",
      "\n",
      "_C7: DemandCenters_(5,_14) + DemandCenters_(6,_14) + DemandCenters_(7,_14)\n",
      " = 64\n",
      "\n",
      "_C8: DemandCenters_(5,_8) + DemandCenters_(6,_8) + DemandCenters_(7,_8) = 381\n",
      "\n",
      "_C9: DemandCenters_(5,_9) + DemandCenters_(6,_9) + DemandCenters_(7,_9) = 191\n",
      "\n",
      "_C10: DemandCenters_(5,_10) + DemandCenters_(6,_10) + DemandCenters_(7,_10)\n",
      " = 171\n",
      "\n",
      "_C11: DemandCenters_(5,_11) + DemandCenters_(6,_11) + DemandCenters_(7,_11)\n",
      " = 64\n",
      "\n",
      "_C12: DemandCenters_(5,_12) + DemandCenters_(6,_12) + DemandCenters_(7,_12)\n",
      " = 127\n",
      "\n",
      "_C13: DemandCenters_(5,_13) + DemandCenters_(6,_13) + DemandCenters_(7,_13)\n",
      " = 184\n",
      "\n",
      "_C14: DemandCenters_(5,_14) + DemandCenters_(6,_14) + DemandCenters_(7,_14)\n",
      " = 64\n",
      "\n",
      "_C15: Transshipment_(1,_5) + Transshipment_(1,_6) + Transshipment_(1,_7)\n",
      " <= 1050\n",
      "\n",
      "_C16: Transshipment_(2,_5) + Transshipment_(2,_6) + Transshipment_(2,_7) <= 30\n",
      "\n",
      "_C17: Transshipment_(3,_5) + Transshipment_(3,_6) + Transshipment_(3,_7)\n",
      " <= 1000000\n",
      "\n",
      "_C18: Transshipment_(4,_5) + Transshipment_(4,_6) + Transshipment_(4,_7)\n",
      " <= 100\n",
      "\n",
      "_C19: DemandCenters_(5,_8) + DemandCenters_(6,_8) + DemandCenters_(7,_8) = 381\n",
      "\n",
      "_C20: DemandCenters_(5,_9) + DemandCenters_(6,_9) + DemandCenters_(7,_9) = 191\n",
      "\n",
      "_C21: DemandCenters_(5,_10) + DemandCenters_(6,_10) + DemandCenters_(7,_10)\n",
      " = 171\n",
      "\n",
      "_C22: DemandCenters_(5,_11) + DemandCenters_(6,_11) + DemandCenters_(7,_11)\n",
      " = 64\n",
      "\n",
      "_C23: DemandCenters_(5,_12) + DemandCenters_(6,_12) + DemandCenters_(7,_12)\n",
      " = 127\n",
      "\n",
      "_C24: DemandCenters_(5,_13) + DemandCenters_(6,_13) + DemandCenters_(7,_13)\n",
      " = 184\n",
      "\n",
      "_C25: DemandCenters_(5,_14) + DemandCenters_(6,_14) + DemandCenters_(7,_14)\n",
      " = 64\n",
      "\n",
      "_C26: - DemandCenters_(5,_10) - DemandCenters_(5,_11) - DemandCenters_(5,_12)\n",
      " - DemandCenters_(5,_13) - DemandCenters_(5,_14) - DemandCenters_(5,_8)\n",
      " - DemandCenters_(5,_9) + Transshipment_(1,_5) + Transshipment_(2,_5)\n",
      " + Transshipment_(3,_5) + Transshipment_(4,_5) = 0\n",
      "\n",
      "_C27: - DemandCenters_(6,_10) - DemandCenters_(6,_11) - DemandCenters_(6,_12)\n",
      " - DemandCenters_(6,_13) - DemandCenters_(6,_14) - DemandCenters_(6,_8)\n",
      " - DemandCenters_(6,_9) + Transshipment_(1,_6) + Transshipment_(2,_6)\n",
      " + Transshipment_(3,_6) + Transshipment_(4,_6) = 0\n",
      "\n",
      "_C28: - DemandCenters_(7,_10) - DemandCenters_(7,_11) - DemandCenters_(7,_12)\n",
      " - DemandCenters_(7,_13) - DemandCenters_(7,_14) - DemandCenters_(7,_8)\n",
      " - DemandCenters_(7,_9) + Transshipment_(1,_7) + Transshipment_(2,_7)\n",
      " + Transshipment_(3,_7) + Transshipment_(4,_7) = 0\n",
      "\n",
      "_C29: Transshipment_(1,_5) + Transshipment_(1,_6) + Transshipment_(1,_7)\n",
      " <= 1050\n",
      "\n",
      "_C30: Transshipment_(2,_5) + Transshipment_(2,_6) + Transshipment_(2,_7) <= 30\n",
      "\n",
      "_C31: Transshipment_(3,_5) + Transshipment_(3,_6) + Transshipment_(3,_7)\n",
      " <= 1000000\n",
      "\n",
      "_C32: Transshipment_(4,_5) + Transshipment_(4,_6) + Transshipment_(4,_7)\n",
      " <= 100\n",
      "\n",
      "VARIABLES\n",
      "DemandCenters_(5,_10) Continuous\n",
      "DemandCenters_(5,_11) Continuous\n",
      "DemandCenters_(5,_12) Continuous\n",
      "DemandCenters_(5,_13) Continuous\n",
      "DemandCenters_(5,_14) Continuous\n",
      "DemandCenters_(5,_8) Continuous\n",
      "DemandCenters_(5,_9) Continuous\n",
      "DemandCenters_(6,_10) Continuous\n",
      "DemandCenters_(6,_11) Continuous\n",
      "DemandCenters_(6,_12) Continuous\n",
      "DemandCenters_(6,_13) Continuous\n",
      "DemandCenters_(6,_14) Continuous\n",
      "DemandCenters_(6,_8) Continuous\n",
      "DemandCenters_(6,_9) Continuous\n",
      "DemandCenters_(7,_10) Continuous\n",
      "DemandCenters_(7,_11) Continuous\n",
      "DemandCenters_(7,_12) Continuous\n",
      "DemandCenters_(7,_13) Continuous\n",
      "DemandCenters_(7,_14) Continuous\n",
      "DemandCenters_(7,_8) Continuous\n",
      "DemandCenters_(7,_9) Continuous\n",
      "Transshipment_(1,_5) Continuous\n",
      "Transshipment_(1,_6) Continuous\n",
      "Transshipment_(1,_7) Continuous\n",
      "Transshipment_(2,_5) Continuous\n",
      "Transshipment_(2,_6) Continuous\n",
      "Transshipment_(2,_7) Continuous\n",
      "Transshipment_(3,_5) Continuous\n",
      "Transshipment_(3,_6) Continuous\n",
      "Transshipment_(3,_7) Continuous\n",
      "Transshipment_(4,_5) Continuous\n",
      "Transshipment_(4,_6) Continuous\n",
      "Transshipment_(4,_7) Continuous\n",
      "\n"
     ]
    }
   ],
   "source": [
    "print(Lp_prob)"
   ]
  },
  {
   "cell_type": "code",
   "execution_count": 35,
   "id": "01efde41",
   "metadata": {},
   "outputs": [],
   "source": [
    "status = Lp_prob.solve()"
   ]
  },
  {
   "cell_type": "code",
   "execution_count": 36,
   "id": "f66e3e27",
   "metadata": {},
   "outputs": [
    {
     "name": "stdout",
     "output_type": "stream",
     "text": [
      "Optimal\n"
     ]
    }
   ],
   "source": [
    "print(p.LpStatus[status])"
   ]
  },
  {
   "cell_type": "code",
   "execution_count": 37,
   "id": "e088dab8",
   "metadata": {},
   "outputs": [
    {
     "name": "stdout",
     "output_type": "stream",
     "text": [
      "18503.5\n"
     ]
    }
   ],
   "source": [
    "Z= print(p.value(Lp_prob.objective))"
   ]
  },
  {
   "cell_type": "code",
   "execution_count": 38,
   "id": "7c7c6d68",
   "metadata": {},
   "outputs": [
    {
     "name": "stdout",
     "output_type": "stream",
     "text": [
      "DemandCenters_(5,_10) = 0.0\n",
      "DemandCenters_(5,_11) = 0.0\n",
      "DemandCenters_(5,_12) = 0.0\n",
      "DemandCenters_(5,_13) = 0.0\n",
      "DemandCenters_(5,_14) = 64.0\n",
      "DemandCenters_(5,_8) = 36.0\n",
      "DemandCenters_(5,_9) = 0.0\n",
      "DemandCenters_(6,_10) = 171.0\n",
      "DemandCenters_(6,_11) = 64.0\n",
      "DemandCenters_(6,_12) = 127.0\n",
      "DemandCenters_(6,_13) = 184.0\n",
      "DemandCenters_(6,_14) = 0.0\n",
      "DemandCenters_(6,_8) = 345.0\n",
      "DemandCenters_(6,_9) = 191.0\n",
      "DemandCenters_(7,_10) = 0.0\n",
      "DemandCenters_(7,_11) = 0.0\n",
      "DemandCenters_(7,_12) = 0.0\n",
      "DemandCenters_(7,_13) = 0.0\n",
      "DemandCenters_(7,_14) = 0.0\n",
      "DemandCenters_(7,_8) = 0.0\n",
      "DemandCenters_(7,_9) = 0.0\n",
      "Transshipment_(1,_5) = 0.0\n",
      "Transshipment_(1,_6) = 1050.0\n",
      "Transshipment_(1,_7) = 0.0\n",
      "Transshipment_(2,_5) = 0.0\n",
      "Transshipment_(2,_6) = 0.0\n",
      "Transshipment_(2,_7) = 0.0\n",
      "Transshipment_(3,_5) = 0.0\n",
      "Transshipment_(3,_6) = 32.0\n",
      "Transshipment_(3,_7) = 0.0\n",
      "Transshipment_(4,_5) = 100.0\n",
      "Transshipment_(4,_6) = 0.0\n",
      "Transshipment_(4,_7) = 0.0\n"
     ]
    }
   ],
   "source": [
    "for v in Lp_prob.variables():\n",
    "    print (v.name,\"=\",v.varValue)\n",
    "    "
   ]
  },
  {
   "cell_type": "code",
   "execution_count": null,
   "id": "579fdcbc",
   "metadata": {},
   "outputs": [],
   "source": []
  }
 ],
 "metadata": {
  "kernelspec": {
   "display_name": "Python 3 (ipykernel)",
   "language": "python",
   "name": "python3"
  },
  "language_info": {
   "codemirror_mode": {
    "name": "ipython",
    "version": 3
   },
   "file_extension": ".py",
   "mimetype": "text/x-python",
   "name": "python",
   "nbconvert_exporter": "python",
   "pygments_lexer": "ipython3",
   "version": "3.9.12"
  }
 },
 "nbformat": 4,
 "nbformat_minor": 5
}
